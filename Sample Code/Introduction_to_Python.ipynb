{
  "nbformat": 4,
  "nbformat_minor": 0,
  "metadata": {
    "colab": {
      "name": "CommunityHub.ipynb",
      "provenance": [],
      "collapsed_sections": []
    },
    "kernelspec": {
      "name": "python3",
      "display_name": "Python 3"
    }
  },
  "cells": [
    {
      "cell_type": "code",
      "metadata": {
        "id": "_Q9iAzxuAOw6",
        "colab_type": "code",
        "colab": {}
      },
      "source": [
        "a = \"Community Hub's services\"\\\"\n",
        "print(a)"
      ],
      "execution_count": null,
      "outputs": []
    },
    {
      "cell_type": "markdown",
      "metadata": {
        "id": "OlCisxzuBO4T",
        "colab_type": "text"
      },
      "source": [
        "Input/Output"
      ]
    },
    {
      "cell_type": "code",
      "metadata": {
        "id": "1SZqVdELBOq_",
        "colab_type": "code",
        "colab": {
          "base_uri": "https://localhost:8080/",
          "height": 53
        },
        "outputId": "d1cb5fc3-f5fd-4284-f632-fcb73c4fe048"
      },
      "source": [
        "a = input(\"What is your name?\")\n",
        "print(\"My name is : \" +a)"
      ],
      "execution_count": 10,
      "outputs": [
        {
          "output_type": "stream",
          "text": [
            "What is your name?Eddy\n",
            "My name is : Eddy\n"
          ],
          "name": "stdout"
        }
      ]
    },
    {
      "cell_type": "markdown",
      "metadata": {
        "id": "PM0aLHosAnH0",
        "colab_type": "text"
      },
      "source": [
        "Decision Making"
      ]
    },
    {
      "cell_type": "code",
      "metadata": {
        "id": "V8ys9pjkAmRj",
        "colab_type": "code",
        "colab": {
          "base_uri": "https://localhost:8080/",
          "height": 35
        },
        "outputId": "049fb3b0-ec2e-4a13-9119-e35d64abc3ea"
      },
      "source": [
        "a = 100\n",
        "b = 50\n",
        "if (a > 200):\n",
        "  print(\"A = 200\")\n",
        "elif (a != 100):\n",
        "  print(\"A == 100\")\n",
        "else:\n",
        "  print(\"A is nothing\")"
      ],
      "execution_count": 8,
      "outputs": [
        {
          "output_type": "stream",
          "text": [
            "A is nothing\n"
          ],
          "name": "stdout"
        }
      ]
    },
    {
      "cell_type": "markdown",
      "metadata": {
        "id": "e4xzQ2MKBZ2E",
        "colab_type": "text"
      },
      "source": [
        "Looping"
      ]
    },
    {
      "cell_type": "code",
      "metadata": {
        "id": "sm9hLDPZBa4Q",
        "colab_type": "code",
        "colab": {
          "base_uri": "https://localhost:8080/",
          "height": 1000
        },
        "outputId": "19d4fa09-bbda-46d7-cb5d-cd706b44dece"
      },
      "source": [
        "for i in range(1, 10):\n",
        "  for j in range(1, 5):\n",
        "    print(i)\n",
        "    print(j)"
      ],
      "execution_count": 16,
      "outputs": [
        {
          "output_type": "stream",
          "text": [
            "1\n",
            "1\n",
            "1\n",
            "2\n",
            "1\n",
            "3\n",
            "1\n",
            "4\n",
            "2\n",
            "1\n",
            "2\n",
            "2\n",
            "2\n",
            "3\n",
            "2\n",
            "4\n",
            "3\n",
            "1\n",
            "3\n",
            "2\n",
            "3\n",
            "3\n",
            "3\n",
            "4\n",
            "4\n",
            "1\n",
            "4\n",
            "2\n",
            "4\n",
            "3\n",
            "4\n",
            "4\n",
            "5\n",
            "1\n",
            "5\n",
            "2\n",
            "5\n",
            "3\n",
            "5\n",
            "4\n",
            "6\n",
            "1\n",
            "6\n",
            "2\n",
            "6\n",
            "3\n",
            "6\n",
            "4\n",
            "7\n",
            "1\n",
            "7\n",
            "2\n",
            "7\n",
            "3\n",
            "7\n",
            "4\n",
            "8\n",
            "1\n",
            "8\n",
            "2\n",
            "8\n",
            "3\n",
            "8\n",
            "4\n",
            "9\n",
            "1\n",
            "9\n",
            "2\n",
            "9\n",
            "3\n",
            "9\n",
            "4\n"
          ],
          "name": "stdout"
        }
      ]
    },
    {
      "cell_type": "code",
      "metadata": {
        "id": "sYPkkdOqCG44",
        "colab_type": "code",
        "colab": {
          "base_uri": "https://localhost:8080/",
          "height": 35
        },
        "outputId": "8d429905-ee27-4dca-f9a9-a86cb6cda271"
      },
      "source": [
        "def func1(n, m):\n",
        "  return n+m\n",
        "\n",
        "print(func1(2, 4))"
      ],
      "execution_count": 23,
      "outputs": [
        {
          "output_type": "stream",
          "text": [
            "6\n"
          ],
          "name": "stdout"
        }
      ]
    },
    {
      "cell_type": "markdown",
      "metadata": {
        "id": "97G4gLehClSn",
        "colab_type": "text"
      },
      "source": [
        "Array vs List vs Tuple"
      ]
    },
    {
      "cell_type": "code",
      "metadata": {
        "id": "DIgQ8mAsClCu",
        "colab_type": "code",
        "colab": {
          "base_uri": "https://localhost:8080/",
          "height": 71
        },
        "outputId": "0d21dbdd-5738-4422-8161-236216e9418f"
      },
      "source": [
        "arr1 = [\"Math\", \"Physics\", \"Chemistry\"]\n",
        "list1= ['Math', \"Physics\", \"Chemistry\", 1999, 2000]\n",
        "tup1 = (\"Math\", \"Physics\", \"Chemistry\", 1999, 2000)\n",
        "print(arr1[-1])\n",
        "print(list1[1:3])\n",
        "print(tup1[:3])"
      ],
      "execution_count": 29,
      "outputs": [
        {
          "output_type": "stream",
          "text": [
            "Chemistry\n",
            "['Physics', 'Chemistry']\n",
            "('Math', 'Physics', 'Chemistry')\n"
          ],
          "name": "stdout"
        }
      ]
    },
    {
      "cell_type": "markdown",
      "metadata": {
        "id": "9XVAZMWVDXjp",
        "colab_type": "text"
      },
      "source": [
        "Dictionary"
      ]
    },
    {
      "cell_type": "code",
      "metadata": {
        "id": "EVa7DMK5DXYY",
        "colab_type": "code",
        "colab": {
          "base_uri": "https://localhost:8080/",
          "height": 35
        },
        "outputId": "26edc5f4-aa91-4e1f-bde3-eed9980ff524"
      },
      "source": [
        "dict1 = {\"Keys\" : \"Community Hub\", \"Keys2\" : \"Community\"}\n",
        "dict1[\"Keys\"] = \"Communitysss\"\n",
        "print(dict1)"
      ],
      "execution_count": 35,
      "outputs": [
        {
          "output_type": "stream",
          "text": [
            "{'Keys': 'Communitysss', 'Keys2': 'Community'}\n"
          ],
          "name": "stdout"
        }
      ]
    }
  ]
}